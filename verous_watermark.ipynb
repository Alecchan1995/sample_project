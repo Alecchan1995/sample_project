{
 "cells": [
  {
   "cell_type": "code",
   "execution_count": null,
   "metadata": {},
   "outputs": [],
   "source": [
    "import cv2 as cv\n",
    "import os\n",
    "import numpy as np\n",
    "import random\n",
    "import math\n",
    "import matplotlib.pyplot as plt\n",
    "from datetime import datetime as dt\n",
    "imagex = cv.imread(\"a10.jpg\",cv.IMREAD_GRAYSCALE) #cv2.IMREAD_GRAYSCALE黑白的   是BE HIDDEN\"\n",
    "#regx =imagex.shape\n",
    "imagexx = imagex.flatten()#二維變一維\\n\",\n",
    "regx =imagex.shape\n",
    "#print(imagexx)\\n\",\n",
    "print(\"xx = \",len(imagexx))\n",
    "imagey = cv.imread(\"b10.jpg\",cv.IMREAD_GRAYSCALE)   #y的圖\\n\",\n",
    "regy = imagey.shape\n",
    "imageyy = imagey.flatten()\n",
    "locimay1 = len(imageyy)\n",
    "#print(imageyy)\\n\",\n",
    "print(\"yy = \",len(imageyy))\n",
    "xn=len(imagexx) #imagex len\\n\",\n",
    "yn=len(imageyy) #imagey len \\n\",\n",
    "hid = xn+yn  #hidden number\"\n",
    "print(\"imagex = \",imagex)\n",
    "print(\"imagey = \",imagey)\n",
    "remin = 0"
   ]
  },
  {
   "cell_type": "code",
   "execution_count": null,
   "metadata": {},
   "outputs": [],
   "source": [
    "for i in imageyy:\n",
    "    print(i,end=\" \")"
   ]
  },
  {
   "cell_type": "code",
   "execution_count": null,
   "metadata": {},
   "outputs": [],
   "source": [
    "def setz(): #算Z的值\\n\",\n",
    "    #print(z)\n",
    "    for i in range(len(z)):  #hid is hidden verous\n",
    "        for j in range(len(imagexx)):\n",
    "            z[i] += (reimx[j] - wx[j][i])**2#imagexx[i] - wx[j][i]\n",
    "     #           print(\"z[\",i,\"] = \",z[i],\"imagexx[\",j,\"]=\",imagexx[j],'-',\"wx[\",j,\"][\",i,\"] = \",wx[j][i],\"**2\")\n",
    "    for yy in range(len(z)):\n",
    "        for yn in range(len(imageyy)):\n",
    "            z[yy] += (reimy[yn] - uy[yn][yy])**2\n",
    "     #           print(\"z[\",yy,\"] = \",z[yy],\"imageyy[\",yn,\"]=\",imageyy[yn],'-',\"uy[\",yn,\"][\",yy,\"] = \",uy[yn][yy],\"**2\")\n",
    "   # print(\"z[0] = \",z[0],\"\\nwx[0][0] =\",wx[0][0],\"\\nuy[0][0] = \",uy[0][0])\n",
    "   # print(\"z = \",z)\n",
    "   # print(\"min_position = \",z.argmin())\n",
    "  #  remin = z.argmin()\n",
    "  #  print(\"z = \",z)\n",
    "    for i in range(len(z)):\n",
    "        z[i] = 1 if i == remin else 0\n",
    "   # print(\"z = \",z)\n",
    "   # rounddate(z)\n",
    "def setout():\n",
    "    for i in range(len(imagexx)):   #輸出的量  targer verous\\n\",\n",
    "        for j in range(len(z)): #output ximage的量   input verous\\n\",\n",
    "            outx[i] +=  z[j]*vx[j][i]  # x的輸出 XV的權重*Z的值  \\n\",\n",
    "        #    print(\"outx[\",i,\"] = \",outx[i],\"z[\",j,\"]=\",z[j],'*',\"vx[\",j,\"][\",i,\"] = \",vx[j][i])\n",
    "    for i in range(len(imageyy)):   #輸出的量    output y imagey\\n\",\n",
    "        for j in range(len(z)): #Z的量\\n\",\n",
    "            outy[i] +=  z[j]*ty[j][i]  # x的輸出 XV的權重*Z的值\\n\",\n",
    "           # print(\"outy[\",i,\"] = \",outy[i],\"z[\",j,\"]=\",z[j],'*',\"ty[\",j,\"][\",i,\"] = \",ty[j][i])\n",
    "   # print(\"vx[0][0] = \",vx[0][0])\n",
    "   # print(\"outx[0]\",outx[0])\n",
    "  #  print(outx)\n",
    "   # print(\"ty[0][0] = \",ty[0][0])\n",
    "   # print(\"outy[0]\",outy[0])\n",
    "  #  print(outy)\n",
    "    \n",
    "  #  rounddate(outx)\n",
    "  #  rounddate(outy)\n",
    "\n",
    "def setznum(wxn,wyn):  #初始化Z\\n\",\n",
    "    return np.zeros(wxn+wyn)\n",
    "def setoutx(): #初始化Ximage output\\n\",\n",
    "    return np.zeros(xn)\n",
    "def setouty(): #初始化Ximage output\\n\",\n",
    "    return np.zeros(yn)\n",
    "def recodeE():\n",
    "    recodex = imagexx - outx\n",
    "    #print(type(recodex))\n",
    "    return recodex\n",
    "\n",
    "def updatevx():\n",
    "    for jj in range(len(outx)):\n",
    "        #for ii in range(len(z)):\n",
    "         #   print(\"vx[\",ii,\"][\",jj,\"] + n*(reimxx[\",jj,\"]-outx[\",jj,\"])*z[\",ii,\"] = \",vx[ii][jj],\"+\",n,\"*\",(reimx[jj]-outx[jj]),\"*\",z[ii])\n",
    "        vx[remin][jj] = vx[remin][jj] + n*(imagexx[jj]-outx[jj])*z[remin]\n",
    "         #   print(\"vx[\",ii,\"][\",jj,\"] = \",vx[ii][jj])\n",
    "          #          print(\"new vx = \",vx[ii][jj])\n",
    "                #print(\"vx[\",ii,\"][\",jj,\"] = \",vx[ii][jj] ,\"(1-n) = \",1-n,\"*uy[i][j] + n*imageyy[i] = \",n*z[ii])\n",
    "                \n",
    "def updatety(): \n",
    "    for jj in range(len(outy)):\n",
    "        #for ii in range(len(z)):\n",
    "      #      print(\"ty[\",ii,\"][\",jj,\"] + n*(reimy[\",jj,\"]-outy[\",jj,\"])*z[\",ii,\"] = \",ty[ii][jj],\"+\",n,\"*\",(reimy[jj]-outy[jj]),\"*\",z[ii] )\n",
    "       ty[remin][jj] = ty[remin][jj] + n*(imageyy[jj]-outy[jj])*z[remin]\n",
    "       #     print(\"ty[\",ii,\"][\",jj,\"] = \",ty[ii][jj])\n",
    "       #         print(\"ty[\",ii,\"][\",jj,\"] = \",ty[ii][jj],\"+\",\"n = \",n,\"imy=\",imageyy[jj],\" - ty =\",imageyy[jj] - ty[ii][jj],\"*sqrt(z)[\",jj,\"] =\",math.sqrt(z[jj]))\n",
    "def updatewx():\n",
    "    #for j in range(len(z)): #wx,uy\n",
    "    for i in range(len(imagexx)):\n",
    "       #     print(\"wx[\",i,\"][\",j,\"] = (1-n)*wx[\",i,\"][\",j,\"]+n*reimx[\",i,\"] = \",(1-n),\"*\",wx[i][j],\"+\",n,\"*\",reimx[i])\n",
    "        wx[i][remin] = (1-n)*wx[i][remin]+n*reimx[i] #n=(0.785*183)=143.655+40.205=(0.215*187)\n",
    "          #  print(\"wx[\",i,\"][\",j,\"] = \",wx[i][j])\n",
    "\n",
    "def updateuy():\n",
    "    #for j in range(len(z)):\n",
    "    for i in range(len(imageyy)):\n",
    "          #  print(\"uy[\",i,\"][\",j,\"] = (1-n)*uy[\",i,\"][\",j,\"]+n*reimy[\",i,\"] = \",(1-n),\"*\",uy[i][j],\"+\",n,\"*\",reimy[i])\n",
    "        uy[i][remin] = (1-n)*uy[i][remin] + n*reimy[i]\n",
    "          #  print(\"uy[\",i,\"][\",j,\"] = \",uy[i][j])\n",
    "def updateall():\n",
    "    updatewx()\n",
    "    updateuy()\n",
    "    updatevx()\n",
    "    updatety()\n",
    " #   print(\"new wx00 = \",wx[0][0],\"new y = \",uy[0][0],\"new vx = \",vx[0][0],\"new ty = \",ty[0][0])\n",
    " #   print(\"mean w=\",np.mean(wx),\"mean u=\",np.mean(uy),\"mean v=\",np.mean(vx),\"mean t=\",np.mean(ty))\n",
    "def updatehid():\n",
    "    updatewx()\n",
    "    updateuy()\n",
    "def updateout():\n",
    "    updatevx()\n",
    "    updatety()\n",
    "    \n",
    "def rounddate(date = []):\n",
    "    for i in range(len(date)):\n",
    "        date[i] = round(date[i],0)"
   ]
  },
  {
   "cell_type": "code",
   "execution_count": null,
   "metadata": {},
   "outputs": [],
   "source": [
    "n = 0.55#round(random.uniform(0,1),3) #閥值 #learn rate\n",
    "b = 0.001 #閥值\n",
    "z = setznum(xn,yn)\n",
    "dt = np.dtype(np.float64)\n",
    "wx = np.random.uniform(-1,1,(xn,hid)) #x->z of w\n",
    "vx = np.random.uniform(-1,1,(hid,xn)) #z->outx of w\n",
    "uy = np.random.uniform(-1,1,(yn,hid)) # y->z of w\n",
    "ty = np.random.uniform(-1,1,(hid,yn)) #z->outy of w\n",
    "reimx = setoutx()\n",
    "reimy = setouty()\n",
    "print(\"b = \",b,\"n = \",n)\n",
    "print(len(z))\n",
    "print(len(imagexx),len(wx),len(wx[1]))\n"
   ]
  },
  {
   "cell_type": "code",
   "execution_count": null,
   "metadata": {},
   "outputs": [],
   "source": [
    "#way3\n",
    "from datetime import datetime as dt\n",
    "num = 0\n",
    "for i in range(len(imagexx)):\n",
    "    reimx[i] = ((imagexx[i]/255)*2) - 1   #正規化\n",
    "for j in range(len(imageyy)):\n",
    "    reimy[j] = ((imageyy[j]/255)*2) - 1\n",
    "#rounddate(reimx)\n",
    "#rounddate(reimy)\n",
    "print(dt.now())"
   ]
  },
  {
   "cell_type": "code",
   "execution_count": null,
   "metadata": {},
   "outputs": [],
   "source": [
    "z = setznum(xn,yn)\n",
    "outx = setoutx()\n",
    "outy = setouty()\n",
    "setz()\n",
    "setout()\n",
    "reoutx =[] \n",
    "reouty =[] \n",
    "renum = []\n",
    "num = 0\n",
    "risx = []\n",
    "risy =  []\n",
    "#check = 0\n",
    "checkout = 0"
   ]
  },
  {
   "cell_type": "code",
   "execution_count": null,
   "metadata": {},
   "outputs": [],
   "source": [
    "while True:\n",
    "    risx = []\n",
    "    risy =  []\n",
    "    checkoutx = 0\n",
    "    for i in range(len(outx)): # check outx of error \n",
    "       # check = 0\n",
    "        check = outx[i] - imagexx[i]\n",
    "        if check < 0:\n",
    "            check = check*-1\n",
    "       # if i < 11:\n",
    "        #    print(\"x\",i,\"=\",check,\"outx - imagexx\",outx[i],\" - \",imagexx[i])\n",
    "        risx.append(check)\n",
    "        if check > b or check < 0:\n",
    "            checkoutx = 1\n",
    "    imx = np.array(check)   # outxage \n",
    "    for j in range(len(outy)):\n",
    "        check = outy[j] - imageyy[j]\n",
    "        if check < 0:\n",
    "            check = check*-1\n",
    "    #  print(\"yerror = \",check )\n",
    "        risy.append(check)\n",
    "        if check > b or check < 0:\n",
    "            checkoutx = 1\n",
    "    imy = np.array(check)  #outy\n",
    "    if checkoutx == 0:\n",
    "        print(\"FINISH\")\n",
    "        print(dt.now())\n",
    "        break\n",
    "    else:\n",
    "        # print(\"imagex00 = \",imagexx[0])\n",
    "        # print(\"outx = \",np.mean(imx),\"outy = \",np.mean(imy),\"ty00 = \",ty[0][0])\n",
    "        reoutx.append(np.mean(imx))\n",
    "        renum.append(num)\n",
    "        reouty.append(np.mean(imy))\n",
    "        # print(\"z = \",z[0])\n",
    "        # print(\"outx =\",outx[0])\n",
    "        # print(\"outy =\",outy[0])\n",
    "        num += 1\n",
    "        updateall()\n",
    "        z = setznum(xn,yn)\n",
    "        outx = setoutx()\n",
    "        outy = setouty()\n",
    "        setz()\n",
    "        setout()"
   ]
  },
  {
   "cell_type": "code",
   "execution_count": null,
   "metadata": {},
   "outputs": [],
   "source": [
    "print(\"zmin = \", z.argmin())\n"
   ]
  },
  {
   "cell_type": "code",
   "execution_count": null,
   "metadata": {},
   "outputs": [],
   "source": [
    "#for i in range(len(reoutx)):\n",
    "#    reoutx[i] = round(reoutx[i],5)\n",
    "#for i in range(len(reouty)):\n",
    "#    reouty[i] = round(reouty[i],5)\n",
    "plt.figure()\n",
    "plt.plot(renum,reoutx,color = \"red\",linewidth=1.0,linestyle=\"-\")\n",
    "plt.plot(renum,reouty,color = \"blue\",linewidth=1.0,linestyle=\"--\")\n",
    "plt.show()\n",
    "for i in reoutx:\n",
    "    print(\"i =\",i)\n",
    "for j in reouty:\n",
    "    print(\"j =\",j)\n",
    "print(outx[0])\n",
    "print(\"imagexx = \",imagexx)\n",
    "print(\"imageyy = \",imageyy)\n",
    "print(\"outx = \",outx)\n",
    "print(\"outy = \",outy)"
   ]
  },
  {
   "cell_type": "code",
   "execution_count": null,
   "metadata": {},
   "outputs": [],
   "source": [
    "print(type(outy))"
   ]
  },
  {
   "cell_type": "code",
   "execution_count": null,
   "metadata": {},
   "outputs": [],
   "source": [
    "rounddate(outx)\n",
    "rounddate(outy)\n",
    "regoutx = np.array(outx).reshape(regx[0],regx[1])\n",
    "regouty = np.array(outy).reshape(regy[0],regy[1])"
   ]
  },
  {
   "cell_type": "code",
   "execution_count": null,
   "metadata": {},
   "outputs": [],
   "source": [
    "print(\"imagex =\" ,imagex)\n",
    "print(\"regoutx = \",regoutx)\n",
    "cv.imwrite('outx.jpg',regoutx)\n",
    "cv.imwrite('outy.jpg', regouty)\n"
   ]
  },
  {
   "cell_type": "code",
   "execution_count": null,
   "metadata": {},
   "outputs": [],
   "source": [
    "print(\"imagey =\" ,imagey)\n",
    "print(\"regouty = \",regouty)"
   ]
  },
  {
   "cell_type": "code",
   "execution_count": null,
   "metadata": {},
   "outputs": [],
   "source": [
    "outxx = cv.imread(\"outx.jpg\",cv.IMREAD_GRAYSCALE)\n",
    "outxxx = outxx.flatten()\n",
    "rex = setoutx()\n",
    "z = setznum(xn,yn)\n",
    "for j in range(len(outxxx)):\n",
    "    rex[j] = ((outxxx[j]/255)*2) - 1\n",
    "#z = setznum(xn,yn)\n",
    "#print(rex)"
   ]
  },
  {
   "cell_type": "code",
   "execution_count": null,
   "metadata": {},
   "outputs": [],
   "source": [
    "outyy = setouty()\n",
    "zmin = 0"
   ]
  },
  {
   "cell_type": "code",
   "execution_count": null,
   "metadata": {},
   "outputs": [],
   "source": [
    "def outwaterz():\n",
    "    for i in range(len(z)):  #hid is hidden verous\n",
    "        for j in range(len(imagexx)):\n",
    "            z[i] += (rex[j] - wx[j][i])**2#imagexx[i] - wx[j][i]\n",
    "     #           print(\"z[\",i,\"] = \",z[i],\"imagexx[\",j,\"]=\",imagexx[j],'-',\"wx[\",j,\"][\",i,\"] = \",wx[j][i],\"**2\")\n",
    "    zmin = z.argmin()\n",
    "    for i in range(len(z)):\n",
    "        z[i] = 1 if i == remin else 0\n",
    "    \n",
    "def outwatery():\n",
    "    for i in range(len(imageyy)):   #輸出的量    output y imagey\\n\",\n",
    "      #  for j in range(len(z)): #Z的量\\n\",\n",
    "        outyy[i] +=  z[zmin]*ty[zmin][i]  # x的輸出 XV的權重*Z的值\\n\",\n",
    "           # print(\"outy[\",i,\"] = \",outy[i],\"z[\",j,\"]=\",z[j],'*',\"ty[\",j,\"][\",i,\"] = \",ty[j][i])"
   ]
  },
  {
   "cell_type": "code",
   "execution_count": null,
   "metadata": {},
   "outputs": [],
   "source": [
    "outwaterz()\n",
    "outwatery()\n"
   ]
  },
  {
   "cell_type": "code",
   "execution_count": null,
   "metadata": {},
   "outputs": [],
   "source": [
    "rounddate(outyy)\n",
    "regoutyy = np.array(outyy).reshape(regy[0],regy[1])\n",
    "print(outyy)\n",
    "cv.imwrite('reouty.jpg', regoutyy)"
   ]
  },
  {
   "cell_type": "code",
   "execution_count": null,
   "metadata": {},
   "outputs": [],
   "source": [
    "print(\"imagey = \",imagey)\n",
    "print(\"outyy = \",outyy)"
   ]
  },
  {
   "cell_type": "code",
   "execution_count": null,
   "metadata": {},
   "outputs": [],
   "source": [
    "print(zmin)"
   ]
  },
  {
   "cell_type": "code",
   "execution_count": null,
   "metadata": {},
   "outputs": [],
   "source": []
  }
 ],
 "metadata": {
  "kernelspec": {
   "display_name": "Python 3",
   "language": "python",
   "name": "python3"
  },
  "language_info": {
   "codemirror_mode": {
    "name": "ipython",
    "version": 3
   },
   "file_extension": ".py",
   "mimetype": "text/x-python",
   "name": "python",
   "nbconvert_exporter": "python",
   "pygments_lexer": "ipython3",
   "version": "3.7.6"
  }
 },
 "nbformat": 4,
 "nbformat_minor": 4
}
